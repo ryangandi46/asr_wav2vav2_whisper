{
  "cells": [
    {
      "cell_type": "markdown",
      "metadata": {
        "id": "view-in-github",
        "colab_type": "text"
      },
      "source": [
        "<a href=\"https://colab.research.google.com/github/ryangandi46/asr_wav2vav2_whisper/blob/main/dashboard_asr_py.ipynb\" target=\"_parent\"><img src=\"https://colab.research.google.com/assets/colab-badge.svg\" alt=\"Open In Colab\"/></a>"
      ]
    },
    {
      "cell_type": "code",
      "execution_count": 1,
      "metadata": {
        "colab": {
          "base_uri": "https://localhost:8080/"
        },
        "id": "59X4VFX-hHwq",
        "outputId": "d837c9e5-6ff5-432d-a2c6-b8fdadf5b506"
      },
      "outputs": [
        {
          "output_type": "stream",
          "name": "stdout",
          "text": [
            "  Preparing metadata (setup.py) ... \u001b[?25l\u001b[?25hdone\n",
            "\u001b[2K     \u001b[90m━━━━━━━━━━━━━━━━━━━━━━━━━━━━━━━━━━━━━━━━\u001b[0m \u001b[32m44.3/44.3 kB\u001b[0m \u001b[31m2.3 MB/s\u001b[0m eta \u001b[36m0:00:00\u001b[0m\n",
            "\u001b[2K   \u001b[90m━━━━━━━━━━━━━━━━━━━━━━━━━━━━━━━━━━━━━━━━\u001b[0m \u001b[32m363.4/363.4 MB\u001b[0m \u001b[31m4.3 MB/s\u001b[0m eta \u001b[36m0:00:00\u001b[0m\n",
            "\u001b[2K   \u001b[90m━━━━━━━━━━━━━━━━━━━━━━━━━━━━━━━━━━━━━━━━\u001b[0m \u001b[32m13.8/13.8 MB\u001b[0m \u001b[31m43.2 MB/s\u001b[0m eta \u001b[36m0:00:00\u001b[0m\n",
            "\u001b[2K   \u001b[90m━━━━━━━━━━━━━━━━━━━━━━━━━━━━━━━━━━━━━━━━\u001b[0m \u001b[32m24.6/24.6 MB\u001b[0m \u001b[31m42.6 MB/s\u001b[0m eta \u001b[36m0:00:00\u001b[0m\n",
            "\u001b[2K   \u001b[90m━━━━━━━━━━━━━━━━━━━━━━━━━━━━━━━━━━━━━━━━\u001b[0m \u001b[32m883.7/883.7 kB\u001b[0m \u001b[31m45.2 MB/s\u001b[0m eta \u001b[36m0:00:00\u001b[0m\n",
            "\u001b[2K   \u001b[90m━━━━━━━━━━━━━━━━━━━━━━━━━━━━━━━━━━━━━━━━\u001b[0m \u001b[32m664.8/664.8 MB\u001b[0m \u001b[31m2.6 MB/s\u001b[0m eta \u001b[36m0:00:00\u001b[0m\n",
            "\u001b[2K   \u001b[90m━━━━━━━━━━━━━━━━━━━━━━━━━━━━━━━━━━━━━━━━\u001b[0m \u001b[32m211.5/211.5 MB\u001b[0m \u001b[31m3.7 MB/s\u001b[0m eta \u001b[36m0:00:00\u001b[0m\n",
            "\u001b[2K   \u001b[90m━━━━━━━━━━━━━━━━━━━━━━━━━━━━━━━━━━━━━━━━\u001b[0m \u001b[32m56.3/56.3 MB\u001b[0m \u001b[31m12.8 MB/s\u001b[0m eta \u001b[36m0:00:00\u001b[0m\n",
            "\u001b[2K   \u001b[90m━━━━━━━━━━━━━━━━━━━━━━━━━━━━━━━━━━━━━━━━\u001b[0m \u001b[32m127.9/127.9 MB\u001b[0m \u001b[31m9.7 MB/s\u001b[0m eta \u001b[36m0:00:00\u001b[0m\n",
            "\u001b[2K   \u001b[90m━━━━━━━━━━━━━━━━━━━━━━━━━━━━━━━━━━━━━━━━\u001b[0m \u001b[32m207.5/207.5 MB\u001b[0m \u001b[31m6.0 MB/s\u001b[0m eta \u001b[36m0:00:00\u001b[0m\n",
            "\u001b[2K   \u001b[90m━━━━━━━━━━━━━━━━━━━━━━━━━━━━━━━━━━━━━━━━\u001b[0m \u001b[32m21.1/21.1 MB\u001b[0m \u001b[31m64.5 MB/s\u001b[0m eta \u001b[36m0:00:00\u001b[0m\n",
            "\u001b[2K   \u001b[90m━━━━━━━━━━━━━━━━━━━━━━━━━━━━━━━━━━━━━━━━\u001b[0m \u001b[32m235.8/235.8 kB\u001b[0m \u001b[31m21.0 MB/s\u001b[0m eta \u001b[36m0:00:00\u001b[0m\n",
            "\u001b[2K   \u001b[90m━━━━━━━━━━━━━━━━━━━━━━━━━━━━━━━━━━━━━━━━\u001b[0m \u001b[32m9.9/9.9 MB\u001b[0m \u001b[31m78.2 MB/s\u001b[0m eta \u001b[36m0:00:00\u001b[0m\n",
            "\u001b[2K   \u001b[90m━━━━━━━━━━━━━━━━━━━━━━━━━━━━━━━━━━━━━━━━\u001b[0m \u001b[32m6.9/6.9 MB\u001b[0m \u001b[31m77.9 MB/s\u001b[0m eta \u001b[36m0:00:00\u001b[0m\n",
            "\u001b[2K   \u001b[90m━━━━━━━━━━━━━━━━━━━━━━━━━━━━━━━━━━━━━━━━\u001b[0m \u001b[32m3.1/3.1 MB\u001b[0m \u001b[31m68.3 MB/s\u001b[0m eta \u001b[36m0:00:00\u001b[0m\n",
            "\u001b[2K   \u001b[90m━━━━━━━━━━━━━━━━━━━━━━━━━━━━━━━━━━━━━━━━\u001b[0m \u001b[32m79.1/79.1 kB\u001b[0m \u001b[31m7.3 MB/s\u001b[0m eta \u001b[36m0:00:00\u001b[0m\n",
            "\u001b[?25h  Building wheel for GPUtil (setup.py) ... \u001b[?25l\u001b[?25hdone\n"
          ]
        }
      ],
      "source": [
        "# Jalankan sekali di Colab\n",
        "!pip install -q transformers datasets torchaudio accelerate jiwer psutil GPUtil librosa noisereduce soundfile unidecode streamlit pyngrok"
      ]
    },
    {
      "cell_type": "code",
      "source": [
        "!pip install --upgrade streamlit"
      ],
      "metadata": {
        "colab": {
          "base_uri": "https://localhost:8080/"
        },
        "id": "EIqIe4sp7SAz",
        "outputId": "a16e5f98-f588-4c27-f5ee-2120c873d949"
      },
      "execution_count": 2,
      "outputs": [
        {
          "output_type": "stream",
          "name": "stdout",
          "text": [
            "Requirement already satisfied: streamlit in /usr/local/lib/python3.11/dist-packages (1.45.1)\n",
            "Requirement already satisfied: altair<6,>=4.0 in /usr/local/lib/python3.11/dist-packages (from streamlit) (5.5.0)\n",
            "Requirement already satisfied: blinker<2,>=1.5.0 in /usr/local/lib/python3.11/dist-packages (from streamlit) (1.9.0)\n",
            "Requirement already satisfied: cachetools<6,>=4.0 in /usr/local/lib/python3.11/dist-packages (from streamlit) (5.5.2)\n",
            "Requirement already satisfied: click<9,>=7.0 in /usr/local/lib/python3.11/dist-packages (from streamlit) (8.2.1)\n",
            "Requirement already satisfied: numpy<3,>=1.23 in /usr/local/lib/python3.11/dist-packages (from streamlit) (2.0.2)\n",
            "Requirement already satisfied: packaging<25,>=20 in /usr/local/lib/python3.11/dist-packages (from streamlit) (24.2)\n",
            "Requirement already satisfied: pandas<3,>=1.4.0 in /usr/local/lib/python3.11/dist-packages (from streamlit) (2.2.2)\n",
            "Requirement already satisfied: pillow<12,>=7.1.0 in /usr/local/lib/python3.11/dist-packages (from streamlit) (11.2.1)\n",
            "Requirement already satisfied: protobuf<7,>=3.20 in /usr/local/lib/python3.11/dist-packages (from streamlit) (5.29.5)\n",
            "Requirement already satisfied: pyarrow>=7.0 in /usr/local/lib/python3.11/dist-packages (from streamlit) (18.1.0)\n",
            "Requirement already satisfied: requests<3,>=2.27 in /usr/local/lib/python3.11/dist-packages (from streamlit) (2.32.3)\n",
            "Requirement already satisfied: tenacity<10,>=8.1.0 in /usr/local/lib/python3.11/dist-packages (from streamlit) (9.1.2)\n",
            "Requirement already satisfied: toml<2,>=0.10.1 in /usr/local/lib/python3.11/dist-packages (from streamlit) (0.10.2)\n",
            "Requirement already satisfied: typing-extensions<5,>=4.4.0 in /usr/local/lib/python3.11/dist-packages (from streamlit) (4.14.0)\n",
            "Requirement already satisfied: watchdog<7,>=2.1.5 in /usr/local/lib/python3.11/dist-packages (from streamlit) (6.0.0)\n",
            "Requirement already satisfied: gitpython!=3.1.19,<4,>=3.0.7 in /usr/local/lib/python3.11/dist-packages (from streamlit) (3.1.44)\n",
            "Requirement already satisfied: pydeck<1,>=0.8.0b4 in /usr/local/lib/python3.11/dist-packages (from streamlit) (0.9.1)\n",
            "Requirement already satisfied: tornado<7,>=6.0.3 in /usr/local/lib/python3.11/dist-packages (from streamlit) (6.4.2)\n",
            "Requirement already satisfied: jinja2 in /usr/local/lib/python3.11/dist-packages (from altair<6,>=4.0->streamlit) (3.1.6)\n",
            "Requirement already satisfied: jsonschema>=3.0 in /usr/local/lib/python3.11/dist-packages (from altair<6,>=4.0->streamlit) (4.24.0)\n",
            "Requirement already satisfied: narwhals>=1.14.2 in /usr/local/lib/python3.11/dist-packages (from altair<6,>=4.0->streamlit) (1.41.0)\n",
            "Requirement already satisfied: gitdb<5,>=4.0.1 in /usr/local/lib/python3.11/dist-packages (from gitpython!=3.1.19,<4,>=3.0.7->streamlit) (4.0.12)\n",
            "Requirement already satisfied: python-dateutil>=2.8.2 in /usr/local/lib/python3.11/dist-packages (from pandas<3,>=1.4.0->streamlit) (2.9.0.post0)\n",
            "Requirement already satisfied: pytz>=2020.1 in /usr/local/lib/python3.11/dist-packages (from pandas<3,>=1.4.0->streamlit) (2025.2)\n",
            "Requirement already satisfied: tzdata>=2022.7 in /usr/local/lib/python3.11/dist-packages (from pandas<3,>=1.4.0->streamlit) (2025.2)\n",
            "Requirement already satisfied: charset-normalizer<4,>=2 in /usr/local/lib/python3.11/dist-packages (from requests<3,>=2.27->streamlit) (3.4.2)\n",
            "Requirement already satisfied: idna<4,>=2.5 in /usr/local/lib/python3.11/dist-packages (from requests<3,>=2.27->streamlit) (3.10)\n",
            "Requirement already satisfied: urllib3<3,>=1.21.1 in /usr/local/lib/python3.11/dist-packages (from requests<3,>=2.27->streamlit) (2.4.0)\n",
            "Requirement already satisfied: certifi>=2017.4.17 in /usr/local/lib/python3.11/dist-packages (from requests<3,>=2.27->streamlit) (2025.4.26)\n",
            "Requirement already satisfied: smmap<6,>=3.0.1 in /usr/local/lib/python3.11/dist-packages (from gitdb<5,>=4.0.1->gitpython!=3.1.19,<4,>=3.0.7->streamlit) (5.0.2)\n",
            "Requirement already satisfied: MarkupSafe>=2.0 in /usr/local/lib/python3.11/dist-packages (from jinja2->altair<6,>=4.0->streamlit) (3.0.2)\n",
            "Requirement already satisfied: attrs>=22.2.0 in /usr/local/lib/python3.11/dist-packages (from jsonschema>=3.0->altair<6,>=4.0->streamlit) (25.3.0)\n",
            "Requirement already satisfied: jsonschema-specifications>=2023.03.6 in /usr/local/lib/python3.11/dist-packages (from jsonschema>=3.0->altair<6,>=4.0->streamlit) (2025.4.1)\n",
            "Requirement already satisfied: referencing>=0.28.4 in /usr/local/lib/python3.11/dist-packages (from jsonschema>=3.0->altair<6,>=4.0->streamlit) (0.36.2)\n",
            "Requirement already satisfied: rpds-py>=0.7.1 in /usr/local/lib/python3.11/dist-packages (from jsonschema>=3.0->altair<6,>=4.0->streamlit) (0.25.1)\n",
            "Requirement already satisfied: six>=1.5 in /usr/local/lib/python3.11/dist-packages (from python-dateutil>=2.8.2->pandas<3,>=1.4.0->streamlit) (1.17.0)\n"
          ]
        }
      ]
    },
    {
      "cell_type": "code",
      "source": [
        "from google.colab import drive\n",
        "drive.mount('/content/drive')\n",
        "\n",
        "# Salin file JSON ke direktori kerja Colab\n",
        "!cp \"/content/drive/MyDrive/skripsi ryan/cleaned_data.json\" /content/\n"
      ],
      "metadata": {
        "colab": {
          "base_uri": "https://localhost:8080/"
        },
        "id": "OC-qzr7lH4Fu",
        "outputId": "c500cbd3-997f-4d0d-eb82-764868bdf881"
      },
      "execution_count": 4,
      "outputs": [
        {
          "output_type": "stream",
          "name": "stdout",
          "text": [
            "Mounted at /content/drive\n"
          ]
        }
      ]
    },
    {
      "cell_type": "code",
      "execution_count": 5,
      "metadata": {
        "colab": {
          "base_uri": "https://localhost:8080/"
        },
        "id": "ZZpwIafmdZ8I",
        "outputId": "0229c446-6928-4688-9ed9-12c297cc181a"
      },
      "outputs": [
        {
          "output_type": "stream",
          "name": "stdout",
          "text": [
            "Writing app.py\n"
          ]
        }
      ],
      "source": [
        "# app.py\n",
        "%%writefile app.py\n",
        "\n",
        "import streamlit as st\n",
        "import torch\n",
        "import time\n",
        "import psutil\n",
        "import GPUtil\n",
        "import librosa\n",
        "import numpy as np\n",
        "from jiwer import wer\n",
        "from transformers import pipeline\n",
        "import os\n",
        "import pandas as pd\n",
        "import json\n",
        "import matplotlib.pyplot as plt\n",
        "import matplotlib.ticker as ticker\n",
        "import seaborn as sns\n",
        "from textwrap import wrap\n",
        "from google.colab import drive\n",
        "\n",
        "\n",
        "# =============================================================================\n",
        "# Konfigurasi Halaman dan Judul Aplikasi\n",
        "# =============================================================================\n",
        "st.set_page_config(layout=\"wide\", page_title=\"ASR Model Evaluation Dashboard\")\n",
        "st.title(\"📊 Dasbor Evaluasi Kinerja Model ASR\")\n",
        "st.markdown(\"Evaluasi perbandingan antara model **OpenAI Whisper** dan **Cahya Wav2Vec2** untuk Pengenalan Ucapan Bahasa Indonesia.\")\n",
        "\n",
        "# =============================================================================\n",
        "# Fungsi Caching untuk Memuat Model (Agar tidak dimuat ulang setiap interaksi)\n",
        "# =============================================================================\n",
        "@st.cache_resource\n",
        "def load_models():\n",
        "    \"\"\"Memuat model Whisper dan Wav2Vec2 hanya sekali.\"\"\"\n",
        "    device = \"cuda:0\" if torch.cuda.is_available() else \"cpu\"\n",
        "\n",
        "    # Memuat pipeline Whisper\n",
        "    whisper_pipe = pipeline(\n",
        "        \"automatic-speech-recognition\",\n",
        "        model=\"openai/whisper-large\",\n",
        "        device=device\n",
        "    )\n",
        "\n",
        "    # Memuat pipeline Wav2Vec2\n",
        "    w2v2_pipe = pipeline(\n",
        "        \"automatic-speech-recognition\",\n",
        "        model=\"cahya/wav2vec2-large-xlsr-indonesian\",\n",
        "        device=device,\n",
        "    )\n",
        "    return whisper_pipe, w2v2_pipe\n",
        "\n",
        "# Panggil fungsi untuk memuat model dan tampilkan status\n",
        "with st.spinner(\"Memuat model Whisper dan Wav2Vec2... Harap tunggu sebentar.\"):\n",
        "    whisper_pipe, w2v2_pipe = load_models()\n",
        "st.success(\"✅ Model berhasil dimuat!\")\n",
        "\n",
        "# =============================================================================\n",
        "# Fungsi untuk Memuat dan Memproses Data\n",
        "# =============================================================================\n",
        "@st.cache_data\n",
        "def load_evaluation_data(path):\n",
        "    \"\"\"Memuat data evaluasi yang sudah dibersihkan dari file JSON.\"\"\"\n",
        "    try:\n",
        "        with open(path, \"r\", encoding=\"utf-8\") as f:\n",
        "            data = json.load(f)\n",
        "        return data\n",
        "    except FileNotFoundError:\n",
        "        st.error(f\"File data tidak ditemukan di path: {path}. Pastikan file 'cleaned_data.json' ada.\")\n",
        "        return None\n",
        "\n",
        "# =============================================================================\n",
        "# Fungsi Utama Aplikasi Streamlit\n",
        "# =============================================================================\n",
        "def main():\n",
        "    # Path ke data yang sudah dibersihkan (sesuaikan jika perlu)\n",
        "    # Di Colab, path ini biasanya dimulai dengan /content/\n",
        "    # === Mount Google Drive ===\n",
        "    cleaned_data_path = \"cleaned_data.json\"\n",
        "\n",
        "    cleaned_data = load_evaluation_data(cleaned_data_path)\n",
        "\n",
        "    if cleaned_data is None:\n",
        "        st.stop()\n",
        "\n",
        "    N = len(cleaned_data)\n",
        "    st.info(f\"Mengevaluasi **{N} sampel** audio yang telah diproses.\")\n",
        "\n",
        "    # Inisialisasi untuk menyimpan hasil\n",
        "    eval_results = []\n",
        "\n",
        "    # Placeholder untuk progress bar\n",
        "    progress_bar = st.progress(0)\n",
        "\n",
        "    # Looping untuk evaluasi setiap sampel\n",
        "    for i, sample_data in enumerate(cleaned_data):\n",
        "        audio_path = sample_data[\"path\"]\n",
        "        ref_text = sample_data[\"text\"]\n",
        "        duration = sample_data[\"duration\"]\n",
        "\n",
        "        with st.expander(f\"Sampel {i+1}: {os.path.basename(audio_path)} (Durasi: {duration:.2f}s)\"):\n",
        "            st.audio(audio_path)\n",
        "            st.markdown(f\"**Teks Referensi:** `{ref_text}`\")\n",
        "\n",
        "            col1, col2 = st.columns(2)\n",
        "\n",
        "            # --- Evaluasi Whisper ---\n",
        "            with col1:\n",
        "                st.subheader(\"Whisper (small)\")\n",
        "                try:\n",
        "                    t0 = time.time()\n",
        "                    whisper_out = whisper_pipe(audio_path, generate_kwargs={\"language\": \"id\", \"task\": \"transcribe\"})\n",
        "                    t1 = time.time()\n",
        "\n",
        "                    whisper_text = whisper_out[\"text\"].strip().lower()\n",
        "                    whisper_wer = wer(ref_text, whisper_text)\n",
        "                    whisper_time = t1 - t0\n",
        "\n",
        "                    st.text(f\"Output: {whisper_text}\")\n",
        "                    st.metric(label=\"Word Error Rate (WER)\", value=f\"{whisper_wer:.3f}\")\n",
        "                    st.metric(label=\"Waktu Inferensi (detik)\", value=f\"{whisper_time:.2f}\")\n",
        "\n",
        "                except Exception as e:\n",
        "                    st.error(f\"Error pada Whisper: {e}\")\n",
        "                    whisper_text, whisper_wer, whisper_time = \"Error\", 1.0, 0.0\n",
        "\n",
        "            # --- Evaluasi Wav2Vec2 ---\n",
        "            with col2:\n",
        "                st.subheader(\"Wav2Vec2 (cahya)\")\n",
        "                try:\n",
        "                    t0 = time.time()\n",
        "                    w2v2_out = w2v2_pipe(audio_path)\n",
        "                    t1 = time.time()\n",
        "\n",
        "                    w2v2_text = w2v2_out[\"text\"].strip().lower()\n",
        "                    w2v2_wer = wer(ref_text, w2v2_text)\n",
        "                    w2v2_time = t1 - t0\n",
        "\n",
        "                    st.text(f\"Output: {w2v2_text}\")\n",
        "                    st.metric(label=\"Word Error Rate (WER)\", value=f\"{w2v2_wer:.3f}\")\n",
        "                    st.metric(label=\"Waktu Inferensi (detik)\", value=f\"{w2v2_time:.2f}\")\n",
        "\n",
        "                except Exception as e:\n",
        "                    st.error(f\"Error pada Wav2Vec2: {e}\")\n",
        "                    w2v2_text, w2v2_wer, w2v2_time = \"Error\", 1.0, 0.0\n",
        "\n",
        "            # Simpan hasil untuk analisis\n",
        "            eval_results.append({\n",
        "                \"reference_text\": ref_text, \"duration\": duration,\n",
        "                \"whisper_output\": whisper_text, \"whisper_wer\": whisper_wer, \"whisper_time\": whisper_time,\n",
        "                \"wav2vec2_output\": w2v2_text, \"wav2vec2_wer\": w2v2_wer, \"wav2vec2_time\": w2v2_time,\n",
        "                \"age\": sample_data.get(\"age\", \"Unknown\"), \"gender\": sample_data.get(\"gender\", \"Unknown\"), \"accent\": sample_data.get(\"accent\", \"Unknown\")\n",
        "            })\n",
        "\n",
        "        # Update progress bar\n",
        "        progress_bar.progress((i + 1) / N)\n",
        "\n",
        "    st.success(\"✅ Evaluasi selesai!\")\n",
        "\n",
        "    # =============================================================================\n",
        "    # Ringkasan dan Visualisasi Hasil\n",
        "    # =============================================================================\n",
        "    st.header(\"Ringkasan Hasil Evaluasi\")\n",
        "\n",
        "    if eval_results:\n",
        "        df_evaluation = pd.DataFrame(eval_results)\n",
        "\n",
        "        # Ubah ke format 'long' untuk visualisasi yang lebih mudah dengan Seaborn\n",
        "        df_whisper = df_evaluation[['whisper_wer', 'whisper_time']].rename(columns={'whisper_wer': 'wer', 'whisper_time': 'time'})\n",
        "        df_whisper['model'] = 'Whisper'\n",
        "\n",
        "        df_wav2vec2 = df_evaluation[['wav2vec2_wer', 'wav2vec2_time']].rename(columns={'wav2vec2_wer': 'wer', 'wav2vec2_time': 'time'})\n",
        "        df_wav2vec2['model'] = 'Wav2Vec2'\n",
        "\n",
        "        df_long = pd.concat([df_whisper, df_wav2vec2])\n",
        "\n",
        "        # Tampilkan DataFrame Ringkasan\n",
        "        summary_stats = df_long.groupby('model').agg(\n",
        "            Avg_WER=('wer', 'mean'),\n",
        "            Avg_Time_sec=('time', 'mean')\n",
        "        ).reset_index()\n",
        "\n",
        "        st.subheader(\"Perbandingan Rata-rata\")\n",
        "        st.dataframe(summary_stats.style.format({'Avg_WER': '{:.3f}', 'Avg_Time_sec': '{:.2f}'}))\n",
        "\n",
        "        # Visualisasi\n",
        "        st.subheader(\"Visualisasi Perbandingan\")\n",
        "        fig, axes = plt.subplots(1, 2, figsize=(16, 6))\n",
        "\n",
        "        # Bar Chart WER\n",
        "        sns.barplot(ax=axes[0], x='model', y='wer', data=df_long, palette='viridis', estimator=np.mean, errorbar='sd')\n",
        "        axes[0].set_title('Rata-rata WER dengan Simpangan Baku', fontsize=14)\n",
        "        axes[0].set_ylabel('WER (Word Error Rate)')\n",
        "        axes[0].set_xlabel('Model')\n",
        "        axes[0].grid(axis='y', linestyle='--', alpha=0.7)\n",
        "\n",
        "        # Boxplot Distribusi WER\n",
        "        sns.boxplot(ax=axes[1], x='model', y='wer', data=df_long, palette='viridis')\n",
        "        axes[1].set_title('Distribusi WER per Model', fontsize=14)\n",
        "        axes[1].set_ylabel('WER (Word Error Rate)')\n",
        "        axes[1].set_xlabel('Model')\n",
        "        axes[1].grid(axis='y', linestyle='--', alpha=0.7)\n",
        "        axes[1].set_ylim(0, 1.5) # Batasi sumbu y agar lebih mudah dibaca\n",
        "\n",
        "        st.pyplot(fig)\n",
        "\n",
        "        # Visualisasi tambahan dari notebook Anda (distribusi data)\n",
        "        st.subheader(\"Distribusi Data Sampel\")\n",
        "\n",
        "        df_viz = df_evaluation.copy()\n",
        "        df_viz['age'] = df_viz['age'].replace('', np.nan).fillna('Unknown')\n",
        "        df_viz['gender'] = df_viz['gender'].replace('', np.nan).fillna('Unknown')\n",
        "        df_viz['accent'] = df_viz['accent'].replace('', np.nan).fillna('Unknown')\n",
        "\n",
        "        fig_viz, axes_viz = plt.subplots(1, 3, figsize=(18, 5))\n",
        "\n",
        "        sns.countplot(ax=axes_viz[0], data=df_viz, x='age', palette='YlGnBu')\n",
        "        axes_viz[0].set_title('Distribusi Umur')\n",
        "\n",
        "        sns.countplot(ax=axes_viz[1], data=df_viz, x='gender', palette='YlOrRd')\n",
        "        axes_viz[1].set_title('Distribusi Gender')\n",
        "\n",
        "        accent_counts = df_viz['accent'].value_counts()\n",
        "        accent_labels_wrapped = ['\\\\n'.join(wrap(label, 10)) for label in accent_counts.index]\n",
        "        axes_viz[2].pie(accent_counts, labels=accent_labels_wrapped, autopct='%1.1f%%', startangle=90, colors=plt.cm.Set3.colors)\n",
        "        axes_viz[2].set_title('Distribusi Aksen')\n",
        "\n",
        "        plt.tight_layout()\n",
        "        st.pyplot(fig_viz)\n",
        "\n",
        "\n",
        "# Jalankan fungsi utama\n",
        "if __name__ == '__main__':\n",
        "    main()"
      ]
    },
    {
      "cell_type": "code",
      "execution_count": 6,
      "metadata": {
        "colab": {
          "base_uri": "https://localhost:8080/"
        },
        "id": "RVHSu2SPgfUZ",
        "outputId": "aab3e452-44c7-405f-8264-ff49dd600243"
      },
      "outputs": [
        {
          "output_type": "stream",
          "name": "stdout",
          "text": [
            "🔗 Streamlit tersedia di: NgrokTunnel: \"https://6291-34-168-213-1.ngrok-free.app\" -> \"http://localhost:8501\"\n"
          ]
        }
      ],
      "source": [
        "from pyngrok import ngrok\n",
        "import threading\n",
        "import os\n",
        "\n",
        "# 👉 Set auth token ngrok Anda\n",
        "NGROK_AUTH_TOKEN = \"2yKciAIRLr6uxcLCKicBduif6K4_fR8NwvQSL1Qdrqw2AuXM\"\n",
        "ngrok.set_auth_token(NGROK_AUTH_TOKEN)\n",
        "\n",
        "# 👉 Jalankan Streamlit di thread terpisah\n",
        "def run_streamlit():\n",
        "    os.system(\"streamlit run app.py --server.port 8501\")\n",
        "\n",
        "thread = threading.Thread(target=run_streamlit)\n",
        "thread.start()\n",
        "\n",
        "# 👉 Buat tunnel ke port 8501\n",
        "public_url = ngrok.connect(8501)\n",
        "print(\"🔗 Streamlit tersedia di:\", public_url)\n"
      ]
    },
    {
      "cell_type": "code",
      "source": [
        "# Matikan semua proses ngrok dan streamlit yang masih aktif\n",
        "!pkill streamlit\n",
        "!pkill ngrok\n"
      ],
      "metadata": {
        "id": "M0TlyPySKp9t"
      },
      "execution_count": 37,
      "outputs": []
    },
    {
      "cell_type": "code",
      "execution_count": 35,
      "metadata": {
        "colab": {
          "base_uri": "https://localhost:8080/"
        },
        "id": "h_6f2WlkvTLW",
        "outputId": "83945cfb-ffd4-4719-9861-a09df6838d23"
      },
      "outputs": [
        {
          "output_type": "stream",
          "name": "stdout",
          "text": [
            "^C\n"
          ]
        }
      ],
      "source": [
        "# Hentikan semua proses ngrok dan streamlit yang mungkin masih berjalan\n",
        "!kill $(ps aux | grep 'ngrok|streamlit' | awk '{print $2}')"
      ]
    }
  ],
  "metadata": {
    "accelerator": "GPU",
    "colab": {
      "gpuType": "T4",
      "provenance": [],
      "toc_visible": true,
      "authorship_tag": "ABX9TyO995h5J5Eo8LDDAwMF5CWz",
      "include_colab_link": true
    },
    "kernelspec": {
      "display_name": "Python 3",
      "name": "python3"
    },
    "language_info": {
      "name": "python"
    }
  },
  "nbformat": 4,
  "nbformat_minor": 0
}